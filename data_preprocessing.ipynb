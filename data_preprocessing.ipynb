{
 "cells": [
  {
   "cell_type": "markdown",
   "metadata": {},
   "source": [
    "The raw data sources—rainfall logs, traffic volume, and accident statistics—are initially unstructured, spatially scattered, or time-based. Without proper transformation, they can't be directly linked to individual roads in the road network graph. Preprocessing steps like spatial joins (for rainfall and casualty mapping), aggregation (e.g., average traffic volume per road), type normalization (ensuring all osmid values are strings), and missing value handling ensure that each node in the graph has a complete, aligned, and usable feature vector"
   ]
  },
  {
   "cell_type": "code",
   "execution_count": 70,
   "metadata": {},
   "outputs": [],
   "source": [
    "import pandas as pd\n",
    "import geopandas as gpd\n",
    "import numpy as np\n",
    "from shapely.geometry import Point\n"
   ]
  },
  {
   "cell_type": "code",
   "execution_count": 71,
   "metadata": {},
   "outputs": [],
   "source": [
    "rainfall_df = pd.read_csv(\"data/rainfall_data.csv\")\n",
    "casualty_df = pd.read_csv(\"data/RoadTrafficAccidentCasualtiesMonthly.csv\")\n",
    "traffic_df = pd.read_csv(\"data/traffic_flow_data.csv\")\n",
    "road_gdf = gpd.read_file(\"data/singapore_road_network.gpkg\", layer=\"edges\")\n"
   ]
  },
  {
   "cell_type": "markdown",
   "metadata": {},
   "source": [
    "RainFall feature engineering"
   ]
  },
  {
   "cell_type": "code",
   "execution_count": null,
   "metadata": {},
   "outputs": [],
   "source": [
    "\n",
    "# Step 2: Convert rainfall DataFrame to GeoDataFrame\n",
    "rainfall_gdf = gpd.GeoDataFrame(\n",
    "    rainfall_df,\n",
    "    geometry=gpd.points_from_xy(rainfall_df.longitude, rainfall_df.latitude),\n",
    "    crs=\"EPSG:4326\"  # WGS 84 (latitude/longitude)\n",
    ")\n",
    "\n",
    "#project both datasets to SVY21 (meters), CRS: EPSG:3414\n",
    "rainfall_gdf = rainfall_gdf.to_crs(epsg=3414)\n",
    "road_gdf = road_gdf.to_crs(epsg=3414)\n",
    "\n",
    "#nearest spatial join (each rainfall point to nearest road)\n",
    "joined_rain = gpd.sjoin_nearest(\n",
    "    rainfall_gdf,\n",
    "    road_gdf,\n",
    "    how=\"left\",\n",
    "    distance_col=\"dist_to_road\"\n",
    ")\n",
    "\n",
    "# Aggregate rainfall per road segment using osmid\n",
    "avg_rainfall_per_road = joined_rain.groupby('osmid')['rainfall_mm'].mean().reset_index()\n",
    "avg_rainfall_per_road.columns = ['osmid', 'rainfall_mm'] \n",
    "\n",
    "# Normalize road_gdf osmid so each row has a single ID\n",
    "def extract_first_osmid(val):\n",
    "    if isinstance(val, list):\n",
    "        return str(val[0])\n",
    "    elif isinstance(val, str) and val.startswith(\"[\"):\n",
    "        try:\n",
    "            val = eval(val)\n",
    "            return str(val[0]) if isinstance(val, list) else str(val)\n",
    "        except:\n",
    "            return str(val)\n",
    "    else:\n",
    "        return str(val)\n",
    "\n",
    "# Create a new GeoDataFrame for road features\n",
    "road_features = road_gdf[['osmid', 'geometry']].copy()\n",
    "road_features['osmid'] = road_features['osmid'].apply(extract_first_osmid)\n",
    "avg_rainfall_per_road['osmid'] = avg_rainfall_per_road['osmid'].astype(str)\n",
    "\n",
    "# Merge rainfall into road features\n",
    "road_features = road_features.merge(avg_rainfall_per_road, on='osmid', how='left')\n",
    "\n",
    "\n",
    "road_features['rainfall_mm'] = road_features['rainfall_mm'].fillna(0).round(3)\n",
    "\n"
   ]
  },
  {
   "cell_type": "code",
   "execution_count": 73,
   "metadata": {},
   "outputs": [],
   "source": [
    "rainfall_gdf = gpd.GeoDataFrame(\n",
    "    rainfall_df,\n",
    "    geometry=gpd.points_from_xy(rainfall_df.longitude, rainfall_df.latitude),\n",
    "    crs=\"EPSG:4326\"\n",
    ")\n",
    "#convert rainrall_df to a geodataframe , each row is now a geographic point\n",
    "rainfall_gdf = gpd.GeoDataFrame(\n",
    "    rainfall_df,\n",
    "    geometry=gpd.points_from_xy(rainfall_df.longitude, rainfall_df.latitude),\n",
    "    crs=\"EPSG:4326\"\n",
    ")\n",
    "# project both to EPSG:3414 (SVY21 – projected CRS for Singapore)\n",
    "rainfall_gdf = rainfall_gdf.to_crs(epsg=3414)\n",
    "road_gdf = road_gdf.to_crs(epsg=3414)\n",
    "\n",
    "joined_rain = gpd.sjoin_nearest(\n",
    "    rainfall_gdf,\n",
    "    road_gdf,\n",
    "    how=\"left\",\n",
    "    distance_col=\"dist_to_road\"\n",
    ")\n",
    "\n",
    "#This builds a GeoDataFrame from the rainfall data using lat/lon and sets the correct geographic CRS"
   ]
  },
  {
   "cell_type": "code",
   "execution_count": 74,
   "metadata": {},
   "outputs": [],
   "source": [
    "avg_rainfall_per_road = joined_rain.groupby('osmid')['rainfall_mm'].mean().reset_index()\n",
    "avg_rainfall_per_road.columns = ['osmid', 'rainfall_mm']  # Rename for clarity\n",
    "\n",
    "# Step 6: Normalize osmid in road_gdf to ensure it's a single ID for joining\n",
    "\n",
    "def extract_first_osmid(val):\n",
    "    if isinstance(val, list):\n",
    "        return str(val[0])\n",
    "    elif isinstance(val, str) and val.startswith(\"[\"):\n",
    "        try:\n",
    "            val = eval(val)\n",
    "            return str(val[0]) if isinstance(val, list) else str(val)\n",
    "        except:\n",
    "            return str(val)\n",
    "    else:\n",
    "        return str(val)\n",
    "\n",
    "# Create a copy for features\n",
    "road_features = road_gdf[['osmid', 'geometry']].copy()\n",
    "\n",
    "# Apply osmid normalization\n",
    "road_features['osmid'] = road_features['osmid'].apply(extract_first_osmid)\n",
    "avg_rainfall_per_road['osmid'] = avg_rainfall_per_road['osmid'].astype(str)\n",
    "\n",
    "# Step 7: Merge rainfall with road features\n",
    "road_features = road_features.merge(avg_rainfall_per_road, on='osmid', how='left')\n",
    "\n",
    "# Step 8: Handle missing data (rainfall for unmatched roads)\n",
    "road_features['rainfall_mm'] = road_features['rainfall_mm'].fillna(0).round(3)\n",
    "\n",
    "road_features[['osmid', 'rainfall_mm']].to_csv(\"data/rainfall_node_features.csv\", index=False)\n",
    "road_features.to_file(\"data/processed_rainfall_features.geojson\", driver=\"GeoJSON\")\n",
    "\n"
   ]
  },
  {
   "cell_type": "code",
   "execution_count": 75,
   "metadata": {},
   "outputs": [],
   "source": [
    "# #project both to EPSG:3414 (SVY21 – projected CRS for Singapore)\n",
    "# rainfall_gdf = rainfall_gdf.to_crs(epsg=3414)\n",
    "# road_gdf = road_gdf.to_crs(epsg=3414)\n",
    "\n",
    "# joined_rain = gpd.sjoin_nearest(\n",
    "#     rainfall_gdf,\n",
    "#     road_gdf,\n",
    "#     how=\"left\",\n",
    "#     distance_col=\"dist_to_road\"\n",
    "# )\n",
    "# #for rainfall and roadnetwork to use same coordinate system in meters for accurate spatial distance ops"
   ]
  },
  {
   "cell_type": "code",
   "execution_count": 76,
   "metadata": {},
   "outputs": [
    {
     "name": "stdout",
     "output_type": "stream",
     "text": [
      "       osmid  rainfall_mm\n",
      "0   49961799          0.0\n",
      "1   46337834          0.0\n",
      "2  627326844          0.0\n",
      "3  150829205          0.0\n",
      "4  633215386          0.0\n"
     ]
    }
   ],
   "source": [
    "avg_rainfall_per_road = joined_rain.groupby('osmid')['rainfall_mm'].mean().reset_index()\n",
    "avg_rainfall_per_road.columns = ['osmid', 'rainfall_mm']\n",
    "\n",
    "road_features['osmid'] = road_features['osmid'].astype(str)\n",
    "avg_rainfall_per_road['osmid'] = avg_rainfall_per_road['osmid'].astype(str)\n",
    "\n",
    "print(road_features[['osmid', 'rainfall_mm']].head())"
   ]
  },
  {
   "cell_type": "code",
   "execution_count": 77,
   "metadata": {},
   "outputs": [
    {
     "name": "stdout",
     "output_type": "stream",
     "text": [
      "Index(['osmid', 'rainfall_mm'], dtype='object')\n",
      "        osmid  rainfall_mm\n",
      "0   110858935     0.023621\n",
      "1  1187360472     0.023162\n",
      "2   172367140     0.013747\n",
      "3   174886143     0.007576\n",
      "4    22762645     0.008004\n"
     ]
    }
   ],
   "source": [
    "print(avg_rainfall_per_road.columns)\n",
    "print(avg_rainfall_per_road.head())"
   ]
  },
  {
   "cell_type": "markdown",
   "metadata": {},
   "source": [
    "Casualty Data Transformation"
   ]
  },
  {
   "cell_type": "code",
   "execution_count": 78,
   "metadata": {},
   "outputs": [],
   "source": [
    "casualty_long = casualty_df.melt(\n",
    "    id_vars='DataSeries',\n",
    "    var_name='Month',\n",
    "    value_name='Value'\n",
    ")\n",
    "#data is in wide format which is hard to work with -> convert to melt"
   ]
  },
  {
   "cell_type": "code",
   "execution_count": 79,
   "metadata": {},
   "outputs": [],
   "source": [
    "casualty_long[\"Value\"] = pd.to_numeric(casualty_long[\"Value\"], errors=\"coerce\")\n",
    "\n",
    "casualty_pivot = casualty_long.pivot_table(\n",
    "    index='Month',\n",
    "    columns='DataSeries',\n",
    "    values='Value',\n",
    "    aggfunc='mean'   # default, but you can change to sum, max, etc.\n",
    ")\n",
    "\n",
    "casualty_pivot = casualty_pivot.fillna(0).reset_index()"
   ]
  },
  {
   "cell_type": "markdown",
   "metadata": {},
   "source": [
    "Traffic Volume Aggregation"
   ]
  },
  {
   "cell_type": "code",
   "execution_count": 80,
   "metadata": {},
   "outputs": [],
   "source": [
    "traffic_df['Date'] = pd.to_datetime(traffic_df['Date'], dayfirst=True)\n",
    "avg_traffic_volume = traffic_df.groupby('LinkID')['Volume'].mean().reset_index() #group traffic by linkID\n",
    "avg_traffic_volume.columns = ['osmid', 'avg_volume'] #calc avg vehicle volume per road over dates"
   ]
  },
  {
   "cell_type": "markdown",
   "metadata": {},
   "source": [
    "Merge all features into GCN Node Table"
   ]
  },
  {
   "cell_type": "code",
   "execution_count": 81,
   "metadata": {},
   "outputs": [
    {
     "name": "stdout",
     "output_type": "stream",
     "text": [
      "object\n",
      "int64\n"
     ]
    }
   ],
   "source": [
    "print(road_features['osmid'].dtype)\n",
    "print(avg_traffic_volume['osmid'].dtype)\n"
   ]
  },
  {
   "cell_type": "code",
   "execution_count": 85,
   "metadata": {},
   "outputs": [
    {
     "ename": "NameError",
     "evalue": "name 'accident_stats' is not defined",
     "output_type": "error",
     "traceback": [
      "\u001b[1;31m---------------------------------------------------------------------------\u001b[0m",
      "\u001b[1;31mNameError\u001b[0m                                 Traceback (most recent call last)",
      "Cell \u001b[1;32mIn[85], line 8\u001b[0m\n\u001b[0;32m      6\u001b[0m avg_rainfall_per_road[\u001b[38;5;124m'\u001b[39m\u001b[38;5;124mosmid\u001b[39m\u001b[38;5;124m'\u001b[39m] \u001b[38;5;241m=\u001b[39m avg_rainfall_per_road[\u001b[38;5;124m'\u001b[39m\u001b[38;5;124mosmid\u001b[39m\u001b[38;5;124m'\u001b[39m]\u001b[38;5;241m.\u001b[39mastype(\u001b[38;5;28mstr\u001b[39m)\n\u001b[0;32m      7\u001b[0m avg_traffic_volume[\u001b[38;5;124m'\u001b[39m\u001b[38;5;124mosmid\u001b[39m\u001b[38;5;124m'\u001b[39m] \u001b[38;5;241m=\u001b[39m avg_traffic_volume[\u001b[38;5;124m'\u001b[39m\u001b[38;5;124mosmid\u001b[39m\u001b[38;5;124m'\u001b[39m]\u001b[38;5;241m.\u001b[39mastype(\u001b[38;5;28mstr\u001b[39m)\n\u001b[1;32m----> 8\u001b[0m accident_stats[\u001b[38;5;124m'\u001b[39m\u001b[38;5;124mosmid\u001b[39m\u001b[38;5;124m'\u001b[39m] \u001b[38;5;241m=\u001b[39m \u001b[43maccident_stats\u001b[49m[\u001b[38;5;124m'\u001b[39m\u001b[38;5;124mosmid\u001b[39m\u001b[38;5;124m'\u001b[39m]\u001b[38;5;241m.\u001b[39mastype(\u001b[38;5;28mstr\u001b[39m)  \u001b[38;5;66;03m# <- assumes you've created this\u001b[39;00m\n\u001b[0;32m     10\u001b[0m \u001b[38;5;66;03m# Step 3: Merge all feature data (rainfall, traffic, casualties)\u001b[39;00m\n\u001b[0;32m     11\u001b[0m road_features \u001b[38;5;241m=\u001b[39m road_features\u001b[38;5;241m.\u001b[39mmerge(avg_rainfall_per_road, on\u001b[38;5;241m=\u001b[39m\u001b[38;5;124m'\u001b[39m\u001b[38;5;124mosmid\u001b[39m\u001b[38;5;124m'\u001b[39m, how\u001b[38;5;241m=\u001b[39m\u001b[38;5;124m'\u001b[39m\u001b[38;5;124mleft\u001b[39m\u001b[38;5;124m'\u001b[39m)\n",
      "\u001b[1;31mNameError\u001b[0m: name 'accident_stats' is not defined"
     ]
    }
   ],
   "source": [
    "# Step 1: Start from road geometries\n",
    "road_features = road_gdf[['osmid', 'geometry']].copy()\n",
    "\n",
    "# Step 2: Normalize osmid types\n",
    "road_features['osmid'] = road_features['osmid'].astype(str)\n",
    "avg_rainfall_per_road['osmid'] = avg_rainfall_per_road['osmid'].astype(str)\n",
    "avg_traffic_volume['osmid'] = avg_traffic_volume['osmid'].astype(str)\n",
    "accident_stats['osmid'] = accident_stats['osmid'].astype(str)  # <- assumes you've created this\n",
    "\n",
    "# Step 3: Merge all feature data (rainfall, traffic, casualties)\n",
    "road_features = road_features.merge(avg_rainfall_per_road, on='osmid', how='left')\n",
    "road_features = road_features.merge(avg_traffic_volume, on='osmid', how='left')\n",
    "road_features = road_features.merge(accident_stats, on='osmid', how='left')  # <- casualty data\n",
    "\n",
    "# Step 4: Fill missing values with 0\n",
    "road_features['rainfall_mm'] = road_features['rainfall_mm'].fillna(0)\n",
    "road_features['avg_volume'] = road_features['avg_volume'].fillna(0)\n",
    "road_features['casualties'] = road_features['casualties'].fillna(0)  # <- casualty data\n",
    "\n",
    "# Step 5: Optionally create a binary label: 1 = hotspot, 0 = safe\n",
    "road_features['label'] = (road_features['casualties'] > 5).astype(int)  # you can adjust threshold\n",
    "\n",
    "# Step 6: Round numerical columns\n",
    "road_features['rainfall_mm'] = road_features['rainfall_mm'].round(2)\n",
    "road_features['avg_volume'] = road_features['avg_volume'].round(2)\n",
    "road_features['casualties'] = road_features['casualties'].astype(int)  # or round if float\n",
    "\n",
    "# Step 7: Save all useful features for GCN\n",
    "road_features.to_file(\"data/node_features.geojson\", driver=\"GeoJSON\")\n",
    "\n",
    "road_features[['osmid', 'rainfall_mm', 'avg_volume', 'casualties', 'label']].to_csv(\"data/node_features.csv\", index=False)\n"
   ]
  },
  {
   "cell_type": "code",
   "execution_count": null,
   "metadata": {},
   "outputs": [],
   "source": [
    "# road_features.to_file(\"processed_gcn_node_features.geojson\", driver=\"GeoJSON\")\n",
    "# road_features[['osmid', 'rainfall_mm', 'avg_volume']].to_csv(\"data/gcn_node_features.csv\", index=False)\n"
   ]
  }
 ],
 "metadata": {
  "kernelspec": {
   "display_name": "Python 3",
   "language": "python",
   "name": "python3"
  },
  "language_info": {
   "codemirror_mode": {
    "name": "ipython",
    "version": 3
   },
   "file_extension": ".py",
   "mimetype": "text/x-python",
   "name": "python",
   "nbconvert_exporter": "python",
   "pygments_lexer": "ipython3",
   "version": "3.11.4"
  }
 },
 "nbformat": 4,
 "nbformat_minor": 2
}
