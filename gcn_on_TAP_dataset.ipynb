{
 "cells": [
  {
   "cell_type": "code",
   "execution_count": null,
   "id": "a205fdbf",
   "metadata": {},
   "outputs": [],
   "source": [
    "import torch\n",
    "import numpy as np\n",
    "from torch_geometric.data import Data\n",
    "from torch_geometric.nn import GCNConv\n",
    "from torch_geometric.explain import GNNExplainer, Explainer\n",
    "\n",
    "\n",
    "#testing on one city, can possibly expand to more \n",
    "import numpy as np\n",
    "\n",
    "data_npz = np.load(r\"data\\TAP-city\\aberdeen_md.npz\", allow_pickle=True)\n",
    "\n",
    "# Extract components\n",
    "x = torch.tensor(data_npz[\"x\"], dtype=torch.float)\n",
    "y = torch.tensor(data_npz[\"occur_labels\"], dtype=torch.long)\n",
    "edge_index = torch.tensor(data_npz[\"edge_index\"].T, dtype=torch.long)  # shape [2, num_edges]\n",
    "edge_attr = torch.tensor(data_npz[\"edge_attr\"], dtype=torch.float)\n",
    "\n",
    "# Construct the PyG data object\n",
    "data = Data(x=x, y=y, edge_index=edge_index)\n"
   ]
  },
  {
   "cell_type": "code",
   "execution_count": 9,
   "id": "41971b55",
   "metadata": {},
   "outputs": [],
   "source": [
    "class GCN(torch.nn.Module):\n",
    "    def __init__(self, in_channels, hidden_channels, out_channels):\n",
    "        super(GCN, self).__init__()\n",
    "        self.conv1 = GCNConv(in_channels, hidden_channels)\n",
    "        self.conv2 = GCNConv(hidden_channels, out_channels)\n",
    "\n",
    "    def forward(self, x, edge_index):\n",
    "        x = self.conv1(x, edge_index).relu()\n",
    "        x = self.conv2(x, edge_index)\n",
    "        return x\n"
   ]
  },
  {
   "cell_type": "code",
   "execution_count": 10,
   "id": "45dee1d7",
   "metadata": {},
   "outputs": [],
   "source": [
    "model = GCN(in_channels=x.shape[1], hidden_channels=16, out_channels=2)\n",
    "optimizer = torch.optim.Adam(model.parameters(), lr=0.01)\n",
    "\n",
    "model.train()\n",
    "for epoch in range(20):\n",
    "    optimizer.zero_grad()\n",
    "    out = model(data.x, data.edge_index)\n",
    "    loss = torch.nn.functional.cross_entropy(out, data.y)\n",
    "    loss.backward()\n",
    "    optimizer.step()"
   ]
  },
  {
   "cell_type": "code",
   "execution_count": 17,
   "id": "6ba5c98f",
   "metadata": {},
   "outputs": [
    {
     "name": "stdout",
     "output_type": "stream",
     "text": [
      "\n",
      "Top Features (full graph):\n",
      "highway: 0.5108\n",
      "bridge: 0.3863\n",
      "oneway: 0.0328\n",
      "lanes: 0.0182\n",
      "length: 0.0013\n"
     ]
    }
   ],
   "source": [
    "model.eval()\n",
    "\n",
    "explainer = Explainer(\n",
    "    model=model,\n",
    "    algorithm=GNNExplainer(epochs=30),\n",
    "    explanation_type='model',\n",
    "    node_mask_type='attributes',\n",
    "    edge_mask_type='object',\n",
    "    model_config=dict(\n",
    "        mode='multiclass_classification',\n",
    "        task_level='node',\n",
    "        return_type='log_probs',\n",
    "    ),\n",
    ")\n",
    "\n",
    "importance_scores = []\n",
    "\n",
    "# 🚨 This loop may take a while!\n",
    "for node_idx in range(data.x.shape[0]):\n",
    "    explanation = explainer(data.x, data.edge_index, index=int(node_idx))\n",
    "\n",
    "    # Extract only the mask for the node of interest\n",
    "    feat_mask = explanation.node_mask[node_idx]\n",
    "\n",
    "    importance_scores.append(feat_mask.cpu().detach().numpy())\n",
    "\n",
    "# Aggregate\n",
    "importance_scores = np.array(importance_scores)\n",
    "avg_importance = importance_scores.mean(axis=0)\n",
    "\n",
    "# Rank features\n",
    "feature_ranking = sorted(\n",
    "    [(i, float(score)) for i, score in enumerate(avg_importance)],\n",
    "    key=lambda x: -x[1]\n",
    ")\n",
    "\n",
    "# Optional: name features\n",
    "feature_names = ['highway', 'length', 'bridge', 'lanes', 'oneway']\n",
    "print(\"\\nTop Features (full graph):\")\n",
    "for idx, importance in feature_ranking:\n",
    "    name = feature_names[idx] if idx < len(feature_names) else f\"feature_{idx}\"\n",
    "    print(f\"{name}: {importance:.4f}\")\n"
   ]
  }
 ],
 "metadata": {
  "kernelspec": {
   "display_name": "base",
   "language": "python",
   "name": "python3"
  },
  "language_info": {
   "codemirror_mode": {
    "name": "ipython",
    "version": 3
   },
   "file_extension": ".py",
   "mimetype": "text/x-python",
   "name": "python",
   "nbconvert_exporter": "python",
   "pygments_lexer": "ipython3",
   "version": "3.11.4"
  }
 },
 "nbformat": 4,
 "nbformat_minor": 5
}
